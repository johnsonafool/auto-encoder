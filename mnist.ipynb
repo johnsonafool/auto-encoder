{
 "cells": [
  {
   "cell_type": "code",
   "execution_count": 1,
   "id": "f6f871a0-e34b-408a-a5db-e2576911d7a6",
   "metadata": {},
   "outputs": [
    {
     "name": "stdout",
     "output_type": "stream",
     "text": [
      "Python Platform: macOS-13.0-arm64-arm-64bit\n",
      "Tensor Flow Version: 2.10.0\n",
      "Keras Version: 2.10.0\n",
      "\n",
      "Python 3.10.8 (main, Oct 13 2022, 09:48:40) [Clang 14.0.0 (clang-1400.0.29.102)]\n",
      "Pandas 1.5.1\n",
      "SciPy 1.9.3\n",
      "GPU is available\n"
     ]
    }
   ],
   "source": [
    "import sys\n",
    "import keras\n",
    "import pandas as pd\n",
    "# import sklearn as sk\n",
    "import scipy as sp\n",
    "import tensorflow as tf\n",
    "import platform\n",
    "print(f\"Python Platform: {platform.platform()}\")\n",
    "print(f\"Tensor Flow Version: {tf.__version__}\")\n",
    "print(f\"Keras Version: {keras.__version__}\")\n",
    "print()\n",
    "print(f\"Python {sys.version}\")\n",
    "print(f\"Pandas {pd.__version__}\")\n",
    "# print(f\"Scikit-Learn {sk.__version__}\")\n",
    "print(f\"SciPy {sp.__version__}\")\n",
    "gpu = len(tf.config.list_physical_devices('GPU'))>0\n",
    "print(\"GPU is\", \"available\" if gpu else \"NOT AVAILABLE\")"
   ]
  },
  {
   "cell_type": "code",
   "execution_count": 2,
   "id": "3fde6baf-0218-4b6b-908c-6959b80a796c",
   "metadata": {},
   "outputs": [],
   "source": [
    "# Reference\n",
    "# https://towardsdatascience.com/convolutional-autoencoders-for-image-noise-reduction-32fce9fc1763\n",
    "\n",
    "# load MNIST dataset\n",
    "from keras.layers import Input, Dense\n",
    "from keras.models import Model\n",
    "from keras.datasets import mnist\n",
    "import numpy as np\n",
    "(x_train, _), (x_test, _) = mnist.load_data()"
   ]
  },
  {
   "cell_type": "code",
   "execution_count": 3,
   "id": "07ee1610-2e52-4b29-b50d-c7e58986ef5e",
   "metadata": {},
   "outputs": [
    {
     "data": {
      "image/png": "[encoded data removed]",
      "text/plain": [
       "<Figure size 2000x400 with 10 Axes>"
      ]
     },
     "metadata": {},
     "output_type": "display_data"
    }
   ],
   "source": [
    "# show dataset images\n",
    "import matplotlib.pyplot as plt\n",
    "\n",
    "n = 10  # how many records we will display\n",
    "plt.figure(figsize=(20, 4))\n",
    "for i in range(n):\n",
    "    # display original\n",
    "    ax = plt.subplot(2, n, i + 1)\n",
    "    plt.imshow(x_test[i].reshape(28, 28))\n",
    "    plt.gray()\n",
    "    ax.get_xaxis().set_visible(False)\n",
    "    ax.get_yaxis().set_visible(False)\n",
    "\n",
    "plt.show()"
   ]
  },
  {
   "cell_type": "code",
   "execution_count": 5,
   "id": "4e8fe04c-1722-418d-a8cc-af9386e77d5f",
   "metadata": {},
   "outputs": [
    {
     "name": "stdout",
     "output_type": "stream",
     "text": [
      "Metal device set to: Apple M1 Pro\n"
     ]
    },
    {
     "name": "stderr",
     "output_type": "stream",
     "text": [
      "2022-11-18 20:51:17.284891: I tensorflow/core/common_runtime/pluggable_device/pluggable_device_factory.cc:306] Could not identify NUMA node of platform GPU ID 0, defaulting to 0. Your kernel may not have been built with NUMA support.\n",
      "2022-11-18 20:51:17.285103: I tensorflow/core/common_runtime/pluggable_device/pluggable_device_factory.cc:272] Created TensorFlow device (/job:localhost/replica:0/task:0/device:GPU:0 with 0 MB memory) -> physical PluggableDevice (device: 0, name: METAL, pci bus id: <undefined>)\n"
     ]
    }
   ],
   "source": [
    "from keras.layers import Input, Dense, Conv2D, MaxPooling2D, UpSampling2D\n",
    "from keras.models import Model\n",
    "\n",
    "# The encoding process\n",
    "input_img = Input(shape=(28, 28, 1))  \n",
    "\n",
    "# Encoding \n",
    "# Conv1 #\n",
    "x = Conv2D(filters = 16, kernel_size = (3, 3), activation='relu', padding='same')(input_img)\n",
    "x = MaxPooling2D(pool_size = (2, 2), padding='same')(x)\n",
    "\n",
    "# Conv2 #\n",
    "x = Conv2D(filters = 8, kernel_size = (3, 3), activation='relu', padding='same')(x)\n",
    "x = MaxPooling2D(pool_size = (2, 2), padding='same')(x) \n",
    "\n",
    "# Conv 3 #\n",
    "x = Conv2D(filters = 8, kernel_size = (3, 3), activation='relu', padding='same')(x)\n",
    "encoded = MaxPooling2D(pool_size = (2, 2), padding='same')(x)"
   ]
  },
  {
   "cell_type": "code",
   "execution_count": 6,
   "id": "4fd92b65-f4b7-4150-85ec-1bc3bd5b26fb",
   "metadata": {},
   "outputs": [],
   "source": [
    "# The decoding process\n",
    "x = Conv2D(8, (3, 3), activation='relu', padding='same')(encoded)\n",
    "x = UpSampling2D((2, 2))(x)\n",
    "x = Conv2D(8, (3, 3), activation='relu', padding='same')(x)\n",
    "x = UpSampling2D((2, 2))(x)\n",
    "x = Conv2D(16, (3, 3), activation='relu')(x)\n",
    "x = UpSampling2D((2, 2))(x)\n",
    "decoded = Conv2D(1, (3, 3), activation='sigmoid', padding='same')(x)\n",
    "\n",
    "autoencoder = Model(input_img, decoded)\n",
    "autoencoder.compile(optimizer='adadelta', loss='binary_crossentropy')\n"
   ]
  },
  {
   "cell_type": "code",
   "execution_count": 7,
   "id": "d06aa09e-65fa-4ce9-92cc-2568456d009e",
   "metadata": {},
   "outputs": [],
   "source": [
    "(x_train, _), (x_test, _) = mnist.load_data()\n",
    "\n",
    "x_train = x_train.astype('float32') / 255.\n",
    "x_test = x_test.astype('float32') / 255.\n",
    "x_train = np.reshape(x_train, (len(x_train), 28, 28, 1))  # adapt this if using `channels_first` image data format\n",
    "x_test = np.reshape(x_test, (len(x_test), 28, 28, 1))  # adapt this if using `channels_first` image data format"
   ]
  },
  {
   "cell_type": "code",
   "execution_count": 9,
   "id": "15f658ca-fa53-41c8-b61b-b0f4982e58ec",
   "metadata": {},
   "outputs": [
    {
     "name": "stdout",
     "output_type": "stream",
     "text": [
      "2022-11-18 20:53:10.573754: F tensorflow/c/experimental/stream_executor/stream_executor.cc:808] Non-OK-status: stream_executor::MultiPlatformManager::RegisterPlatform( std::move(cplatform)) status: INTERNAL: platform is already registered with name: \"METAL\"\n"
     ]
    }
   ],
   "source": [
    "!tensorboard --logdir=/tmp/autoencoder"
   ]
  },
  {
   "cell_type": "code",
   "execution_count": 10,
   "id": "78dc0a4f-4d71-4486-b3e6-7622c8ca4681",
   "metadata": {
    "scrolled": true,
    "tags": []
   },
   "outputs": [
    {
     "name": "stdout",
     "output_type": "stream",
     "text": [
      "Epoch 1/50\n"
     ]
    },
    {
     "name": "stderr",
     "output_type": "stream",
     "text": [
      "2022-11-18 20:53:45.835751: W tensorflow/core/platform/profile_utils/cpu_utils.cc:128] Failed to get CPU frequency: 0 Hz\n",
      "2022-11-18 20:53:46.167169: I tensorflow/core/grappler/optimizers/custom_graph_optimizer_registry.cc:114] Plugin optimizer for device_type GPU is enabled.\n"
     ]
    },
    {
     "name": "stdout",
     "output_type": "stream",
     "text": [
      "469/469 [==============================] - ETA: 0s - loss: 0.6978"
     ]
    },
    {
     "name": "stderr",
     "output_type": "stream",
     "text": [
      "2022-11-18 20:53:59.840651: I tensorflow/core/grappler/optimizers/custom_graph_optimizer_registry.cc:114] Plugin optimizer for device_type GPU is enabled.\n"
     ]
    },
    {
     "name": "stdout",
     "output_type": "stream",
     "text": [
      "469/469 [==============================] - 15s 25ms/step - loss: 0.6978 - val_loss: 0.6957\n",
      "Epoch 2/50\n",
      "469/469 [==============================] - 11s 23ms/step - loss: 0.6936 - val_loss: 0.6913\n",
      "Epoch 3/50\n",
      "469/469 [==============================] - 10s 22ms/step - loss: 0.6886 - val_loss: 0.6854\n",
      "Epoch 4/50\n",
      "469/469 [==============================] - 10s 22ms/step - loss: 0.6806 - val_loss: 0.6743\n",
      "Epoch 5/50\n",
      "469/469 [==============================] - 11s 23ms/step - loss: 0.6619 - val_loss: 0.6437\n",
      "Epoch 6/50\n",
      "469/469 [==============================] - 10s 22ms/step - loss: 0.5964 - val_loss: 0.5270\n",
      "Epoch 7/50\n",
      "469/469 [==============================] - 11s 22ms/step - loss: 0.4784 - val_loss: 0.4622\n",
      "Epoch 8/50\n",
      "469/469 [==============================] - 10s 22ms/step - loss: 0.4506 - val_loss: 0.4460\n",
      "Epoch 9/50\n",
      "469/469 [==============================] - 10s 22ms/step - loss: 0.4348 - val_loss: 0.4303\n",
      "Epoch 10/50\n",
      "469/469 [==============================] - 10s 22ms/step - loss: 0.4191 - val_loss: 0.4140\n",
      "Epoch 11/50\n",
      "469/469 [==============================] - 10s 22ms/step - loss: 0.4025 - val_loss: 0.3965\n",
      "Epoch 12/50\n",
      "469/469 [==============================] - 10s 22ms/step - loss: 0.3843 - val_loss: 0.3770\n",
      "Epoch 13/50\n",
      "469/469 [==============================] - 10s 22ms/step - loss: 0.3643 - val_loss: 0.3559\n",
      "Epoch 14/50\n",
      "469/469 [==============================] - 10s 22ms/step - loss: 0.3436 - val_loss: 0.3351\n",
      "Epoch 15/50\n",
      "469/469 [==============================] - 10s 22ms/step - loss: 0.3241 - val_loss: 0.3164\n",
      "Epoch 16/50\n",
      "469/469 [==============================] - 10s 22ms/step - loss: 0.3077 - val_loss: 0.3016\n",
      "Epoch 17/50\n",
      "469/469 [==============================] - 10s 22ms/step - loss: 0.2947 - val_loss: 0.2899\n",
      "Epoch 18/50\n",
      "469/469 [==============================] - 10s 22ms/step - loss: 0.2845 - val_loss: 0.2807\n",
      "Epoch 19/50\n",
      "469/469 [==============================] - 10s 22ms/step - loss: 0.2765 - val_loss: 0.2734\n",
      "Epoch 20/50\n",
      "469/469 [==============================] - 11s 23ms/step - loss: 0.2700 - val_loss: 0.2674\n",
      "Epoch 21/50\n",
      "469/469 [==============================] - 11s 23ms/step - loss: 0.2647 - val_loss: 0.2625\n",
      "Epoch 22/50\n",
      "469/469 [==============================] - 11s 24ms/step - loss: 0.2603 - val_loss: 0.2585\n",
      "Epoch 23/50\n",
      "469/469 [==============================] - 11s 23ms/step - loss: 0.2567 - val_loss: 0.2551\n",
      "Epoch 24/50\n",
      "469/469 [==============================] - 12s 25ms/step - loss: 0.2536 - val_loss: 0.2522\n",
      "Epoch 25/50\n",
      "469/469 [==============================] - 10s 22ms/step - loss: 0.2510 - val_loss: 0.2497\n",
      "Epoch 26/50\n",
      "469/469 [==============================] - 10s 22ms/step - loss: 0.2486 - val_loss: 0.2475\n",
      "Epoch 27/50\n",
      "469/469 [==============================] - 11s 22ms/step - loss: 0.2466 - val_loss: 0.2455\n",
      "Epoch 28/50\n",
      "469/469 [==============================] - 10s 21ms/step - loss: 0.2447 - val_loss: 0.2436\n",
      "Epoch 29/50\n",
      "469/469 [==============================] - 10s 22ms/step - loss: 0.2429 - val_loss: 0.2419\n",
      "Epoch 30/50\n",
      "469/469 [==============================] - 11s 23ms/step - loss: 0.2412 - val_loss: 0.2403\n",
      "Epoch 31/50\n",
      "469/469 [==============================] - 11s 23ms/step - loss: 0.2397 - val_loss: 0.2388\n",
      "Epoch 32/50\n",
      "469/469 [==============================] - 11s 23ms/step - loss: 0.2382 - val_loss: 0.2373\n",
      "Epoch 33/50\n",
      "469/469 [==============================] - 11s 23ms/step - loss: 0.2368 - val_loss: 0.2360\n",
      "Epoch 34/50\n",
      "469/469 [==============================] - 11s 23ms/step - loss: 0.2355 - val_loss: 0.2346\n",
      "Epoch 35/50\n",
      "469/469 [==============================] - 12s 25ms/step - loss: 0.2342 - val_loss: 0.2334\n",
      "Epoch 36/50\n",
      "469/469 [==============================] - 10s 22ms/step - loss: 0.2329 - val_loss: 0.2321\n",
      "Epoch 37/50\n",
      "469/469 [==============================] - 11s 23ms/step - loss: 0.2317 - val_loss: 0.2310\n",
      "Epoch 38/50\n",
      "469/469 [==============================] - 12s 25ms/step - loss: 0.2306 - val_loss: 0.2299\n",
      "Epoch 39/50\n",
      "469/469 [==============================] - 11s 24ms/step - loss: 0.2295 - val_loss: 0.2288\n",
      "Epoch 40/50\n",
      "469/469 [==============================] - 11s 23ms/step - loss: 0.2285 - val_loss: 0.2277\n",
      "Epoch 41/50\n",
      "469/469 [==============================] - 11s 23ms/step - loss: 0.2274 - val_loss: 0.2267\n",
      "Epoch 42/50\n",
      "469/469 [==============================] - 10s 22ms/step - loss: 0.2265 - val_loss: 0.2258\n",
      "Epoch 43/50\n",
      "469/469 [==============================] - 11s 24ms/step - loss: 0.2255 - val_loss: 0.2249\n",
      "Epoch 44/50\n",
      "469/469 [==============================] - 12s 26ms/step - loss: 0.2246 - val_loss: 0.2239\n",
      "Epoch 45/50\n",
      "469/469 [==============================] - 11s 23ms/step - loss: 0.2237 - val_loss: 0.2231\n",
      "Epoch 46/50\n",
      "469/469 [==============================] - 12s 25ms/step - loss: 0.2229 - val_loss: 0.2223\n",
      "Epoch 47/50\n",
      "469/469 [==============================] - 11s 24ms/step - loss: 0.2221 - val_loss: 0.2214\n",
      "Epoch 48/50\n",
      "469/469 [==============================] - 12s 25ms/step - loss: 0.2212 - val_loss: 0.2206\n",
      "Epoch 49/50\n",
      "469/469 [==============================] - 11s 24ms/step - loss: 0.2205 - val_loss: 0.2199\n",
      "Epoch 50/50\n",
      "469/469 [==============================] - 11s 24ms/step - loss: 0.2197 - val_loss: 0.2191\n"
     ]
    },
    {
     "data": {
      "text/plain": [
       "<keras.callbacks.History at 0x29a98abf0>"
      ]
     },
     "execution_count": 10,
     "metadata": {},
     "output_type": "execute_result"
    }
   ],
   "source": [
    "# train autoencoder model\n",
    "autoencoder.fit(x_train, x_train,\n",
    "                epochs=50,\n",
    "                batch_size=128,\n",
    "                shuffle=True,\n",
    "                validation_data=(x_test, x_test)\n",
    "                # callbacks=[TensorBoard(log_dir='/tmp/autoencoder')]\n",
    "               )"
   ]
  },
  {
   "cell_type": "code",
   "execution_count": 11,
   "id": "f0cebd52-7d4c-43a3-989b-b2514f735313",
   "metadata": {},
   "outputs": [
    {
     "name": "stdout",
     "output_type": "stream",
     "text": [
      " 18/313 [>.............................] - ETA: 1s"
     ]
    },
    {
     "name": "stderr",
     "output_type": "stream",
     "text": [
      "2022-11-18 21:03:46.044986: I tensorflow/core/grappler/optimizers/custom_graph_optimizer_registry.cc:114] Plugin optimizer for device_type GPU is enabled.\n"
     ]
    },
    {
     "name": "stdout",
     "output_type": "stream",
     "text": [
      "313/313 [==============================] - 2s 6ms/step\n"
     ]
    },
    {
     "data": {
      "image/png": "[encoded data removed]",
      "text/plain": [
       "<Figure size 2000x400 with 20 Axes>"
      ]
     },
     "metadata": {},
     "output_type": "display_data"
    }
   ],
   "source": [
    "# See trained Model prediction result\n",
    "decoded_imgs = autoencoder.predict(x_test)\n",
    "\n",
    "n = 10\n",
    "\n",
    "plt.figure(figsize=(20, 4))\n",
    "for i in range(n):\n",
    "    # display original\n",
    "    ax = plt.subplot(2, n, i + 1)\n",
    "    plt.imshow(x_test[i].reshape(28, 28))\n",
    "    plt.gray()\n",
    "    ax.get_xaxis().set_visible(False)\n",
    "    ax.get_yaxis().set_visible(False)\n",
    "\n",
    "    # display reconstruction\n",
    "    ax = plt.subplot(2, n, i+1+n)\n",
    "    plt.imshow(decoded_imgs[i].reshape(28, 28))\n",
    "    plt.gray()\n",
    "    ax.get_xaxis().set_visible(False)\n",
    "    ax.get_yaxis().set_visible(False)\n",
    "plt.show()"
   ]
  },
  {
   "cell_type": "code",
   "execution_count": null,
   "id": "0f3364ea-6ffc-4148-9e78-a01503084a1d",
   "metadata": {},
   "outputs": [],
   "source": []
  }
 ],
 "metadata": {
  "kernelspec": {
   "display_name": "auto-encoder-Hd1DGxBv",
   "language": "python",
   "name": "auto-encoder-hd1dgxbv"
  },
  "language_info": {
   "codemirror_mode": {
    "name": "ipython",
    "version": 3
   },
   "file_extension": ".py",
   "mimetype": "text/x-python",
   "name": "python",
   "nbconvert_exporter": "python",
   "pygments_lexer": "ipython3",
   "version": "3.10.8"
  }
 },
 "nbformat": 4,
 "nbformat_minor": 5
}
